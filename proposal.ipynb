{
 "cells": [
  {
   "cell_type": "markdown",
   "metadata": {},
   "source": [
    "# **\"What is the next step for my business?\"**\n",
    "\n",
    "*The data incubator project proposal*\n",
    "*by Yun Zhang*\n",
    "\n",
    "*April 2017*\n",
    "\n",
    "## 1. **Introduction**\n",
    "### 1.1 **Project Motivation**\n",
    "Market feedback is not only the main factor to indicate how successful business is, it also provides valuable resources for business owners to learn how to improve products and service to achieve their business goals. One common problem that business owners have to face to is \"What is the next step for my business?\". They may want to know any specific strategy related to business operation like 'whether my business should extend weekday business hours', 'whether more types of food needs to be provided', and more importantly 'what needs to be done first'. The analysis of large data on market trends, consumer rating/review and competitor information may be the key to answer these questions. However, owners of local business, especially small self-employed business, may hardly collect and analyze enough data due to technical and financial difficulties. Yelp may be a good alternative that provides direct consumer feedback including rating and reviews. However, the average rating from Yelp may be not effective enough to indicate a specific move to improve business, while the text-based user review is time-consuming to read, analyze and extract useful information. And it becomes even more difficult when analyzing competitors or general market trends. Therefore, I propose to develop a recommender for strategies of business operations, which analyzes the impacts from business category, service, operational hour, location, user review and other related factors, and provides different strategies and their priority order to attract more customers (more number of review count) and improve customer rating. More details will be discussed in Section 2.\n",
    "\n",
    "### 1.2 **Data decription**\n",
    "The dataset that will be analyzed in this project is provided by Yelp for its 9th dataset challenge, and the data is accessible online and can be downloaded from the website https://www.yelp.com/dataset_challenge. The dataset includes five portions for user, user reviews, check-in, business and user tips. The size of the dateset is approximately 5GB with information of about 0.14 million business, 1.02 million users and 4.15 million reviews. The business portion provides data on business location, operation hours, attribute, category, review count and average rating, all of which are the main drivers of the proposed predicted model for customer rating and count.\n",
    "\n",
    "## 2. **Project objective and methodology**\n",
    "There are five goals of the proposed project at different stages of development. \n",
    "1. Develop a predictive model for customer rating and review count based on business location, types and categories of attributes, service provided, operational hour and other related factors. The continous rating will be divided into 5 categories, which turns the predictive model as a classification problem. At this stage, data cleansing will be finished with multiple explorary data analysis, and the predicted model will be developed by applying different classification models including logistic regression, support vector machines (SVM), random forest and etc.. Model and feature selection will be conducted based on the cross-validation method.\n",
    "\n",
    "2. Build a tool that efficiently extracts and compares useful information from related reviews and reviewers on any existing business and its top-rated competitors. The useful information may include word frequency for different rating values ('which word is the most important for good and bad ratings'), rating distribution ('whether the rating is consistently distributed or polarized') and the relationship between rating and user social network ('whether any user's rating will affect his friends'). In addition, the comparison of user reviews with top-rated competitors will help business owners understand their shortcomings in customer experience and services. This may further benefit business strategy decision.\n",
    "\n",
    "3. Complete a recommender that predicts the significance of different business factors to improve business review rating and count, provides the priority order to indicate which factor should be improved first (like 'whether more types of food, parking lot or free wifi are the most important to improve rating'), suggest difference in the top-rated competitors and analyze customer reviews to extract what customers care most for more insight on business strategy. \n",
    "\n",
    "4. Complete a recommender for new business. Given business category and location, the recommender provides information for business operation and strategy of top-rated potential competitors.\n",
    "\n",
    "5. Create an interactive web application to implement the proposed recommender and visualize results with Heroku. \n",
    "\n",
    "## 3. **Preliminary results**\n",
    "In order to understand how business factors affect customer rating and review count, the business portion of the Yelp dataset has been analyzed. This data includes the information of 0.14 million business on their business categories, types of services provided, geographic information (city, state, neighborhood), operational hours, average customer rating and review count. Due to the limited time, only the impacts from business location (city) and categories on customer average rating (Figure 1) and review count (Figure 2) have been finished. The data has 877 unique cities and 1191 unique business categories. Here cities within close regions are not merged into one entry, and each business can be defined as multiple business categories. The number of business is applied to rank all cities and categories. Figure 1 and 2 show the heat maps of the average rating and total review count for the top 20 business categories at the top 20 cities. According to these two figures, several insights can be drawn: \n",
    "\n",
    "1. Restaurants including fast food, pizza, bars tend to receive low rating, while cafes for coffee and tea still maintain relatively high rating. \n",
    "2. Business related to personal service like hair salons, spas, health/medical and active life always receive higher customer satisfaction. The impacts from location on these types of business are not obvious. \n",
    "3. Compared to business categories, business location affects less on average rating. However, business locations may affect the whole distribution of rating within different categories. For example, the average rating at Mississauga in Canada is much lower than its neighboring city, Toronto, which may indicate strong general difference in markets. \n",
    "4. The number of business does not ensure review count. Food-related industry (restaurants, bars, fast food, etc.) always receive large amount of reviews (a large number of active customers), while much less reviews for home services, health & medical and automotive are received. This may indicate category is a strong factor for review count prediction.   \n",
    "5. For review count, business location has less impacts compared to the number of business and business categories. Special treatment is required for some exceptions due to local culture and market situation. For example, Edinburgh in Scotland has high average rating for all business categories with obviously small number of reviews despite of relatively large number of business (rank 11). \n",
    "\n",
    "Generally, the preliminary results demonstrate the basic distribution of rating and review count for different business at different locations, confirms the significance of business category on both rating and review count and indicates business location as a weak factor for the proposed predictive model. More discussion is still underway. All the exploratory analysis will benefit the development of the predictive model for customer rating and review count. \n",
    "\n",
    "\n",
    "## 4. **Conclusion**\n",
    "The proposed project deeply analyzes business factors and customer reviews to provide recommendations for business operation to improve both review rating and count. Instead of focusing only on the rating prediction, the proposed project applies the predictive model to investigate the significance of different factors, suggests specific business strategy and consider objective customer feedback from the analysis of user reviews. The complete project will be an useful and efficient tool of business owners for future strategy planning."
   ]
  },
  {
   "cell_type": "code",
   "execution_count": null,
   "metadata": {
    "collapsed": true
   },
   "outputs": [],
   "source": []
  }
 ],
 "metadata": {
  "kernelspec": {
   "display_name": "Python 3",
   "language": "python",
   "name": "python3"
  },
  "language_info": {
   "codemirror_mode": {
    "name": "ipython",
    "version": 3
   },
   "file_extension": ".py",
   "mimetype": "text/x-python",
   "name": "python",
   "nbconvert_exporter": "python",
   "pygments_lexer": "ipython3",
   "version": "3.6.0"
  }
 },
 "nbformat": 4,
 "nbformat_minor": 2
}
